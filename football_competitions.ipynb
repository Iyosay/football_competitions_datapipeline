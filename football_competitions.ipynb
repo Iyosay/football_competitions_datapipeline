{
 "cells": [
  {
   "cell_type": "code",
   "execution_count": null,
   "id": "5866ad47",
   "metadata": {},
   "outputs": [
    {
     "name": "stdout",
     "output_type": "stream",
     "text": [
      "     id                  name    type  numberOfAvailableSeasons  area.id  \\\n",
      "0  2176            Africa Cup     CUP                         2     2001   \n",
      "1  2006  WC Qualification CAF     CUP                         3     2001   \n",
      "2  2166  AFC Champions League     CUP                         1     2001   \n",
      "3  2023    Primera B Nacional  LEAGUE                         5     2011   \n",
      "4  2024      Liga Profesional  LEAGUE                         9     2011   \n",
      "\n",
      "   area.name  \n",
      "0     Africa  \n",
      "1     Africa  \n",
      "2     Africa  \n",
      "3  Argentina  \n",
      "4  Argentina  \n"
     ]
    }
   ],
   "source": [
    "import pandas as pd\n",
    "import requests\n",
    "\n",
    "url = \"http://api.football-data.org/v4/competitions/\"\n",
    "response_API = requests.get(url)\n",
    "football_data = response_API.json()\n",
    "\n",
    "football_competitions = []\n",
    "\n",
    "for competition in football_data['competitions']:\n",
    "    area = competition['area']  # assumes 'area' always exists\n",
    "    competition_list = {\n",
    "        'id': competition['id'],\n",
    "        'name': competition['name'],\n",
    "        'type': competition['type'],\n",
    "        'numberOfAvailableSeasons': competition['numberOfAvailableSeasons'],\n",
    "        'area.id': area['id'],\n",
    "        'area.name': area['name']\n",
    "    }\n",
    "    football_competitions.append(competition_list)\n",
    "\n",
    "\n",
    "df = pd.DataFrame(football_competitions)\n",
    "\n",
    "\n",
    "print(df.head())\n"
   ]
  }
 ],
 "metadata": {
  "kernelspec": {
   "display_name": "venv",
   "language": "python",
   "name": "python3"
  },
  "language_info": {
   "codemirror_mode": {
    "name": "ipython",
    "version": 3
   },
   "file_extension": ".py",
   "mimetype": "text/x-python",
   "name": "python",
   "nbconvert_exporter": "python",
   "pygments_lexer": "ipython3",
   "version": "3.13.5"
  }
 },
 "nbformat": 4,
 "nbformat_minor": 5
}
